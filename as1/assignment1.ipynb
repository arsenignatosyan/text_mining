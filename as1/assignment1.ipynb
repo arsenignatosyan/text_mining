{
 "cells": [
  {
   "cell_type": "markdown",
   "id": "ccfc223e",
   "metadata": {},
   "source": [
    "# Imports"
   ]
  },
  {
   "cell_type": "code",
   "execution_count": 1,
   "id": "0c07a54c",
   "metadata": {},
   "outputs": [],
   "source": [
    "from sklearn.datasets import fetch_20newsgroups\n",
    "from sklearn.feature_extraction.text import CountVectorizer, TfidfTransformer\n",
    "from sklearn.naive_bayes import MultinomialNB\n",
    "from sklearn.metrics import classification_report\n",
    "from sklearn.tree import DecisionTreeClassifier\n",
    "from sklearn.svm import SVC"
   ]
  },
  {
   "cell_type": "markdown",
   "id": "7d7d0136",
   "metadata": {},
   "source": [
    "# Load Dataset"
   ]
  },
  {
   "cell_type": "code",
   "execution_count": 2,
   "id": "0fd7fcb7",
   "metadata": {},
   "outputs": [],
   "source": [
    "twenty_train = fetch_20newsgroups(subset='train')\n",
    "twenty_test = fetch_20newsgroups(subset='test')"
   ]
  },
  {
   "cell_type": "code",
   "execution_count": 3,
   "id": "bcd0bd51",
   "metadata": {},
   "outputs": [
    {
     "data": {
      "text/plain": [
       "(11314, 7532)"
      ]
     },
     "execution_count": 3,
     "metadata": {},
     "output_type": "execute_result"
    }
   ],
   "source": [
    "len(twenty_train['data']), len(twenty_test['data'])"
   ]
  },
  {
   "cell_type": "code",
   "execution_count": 4,
   "id": "01e0816b",
   "metadata": {},
   "outputs": [
    {
     "data": {
      "text/plain": [
       "20"
      ]
     },
     "execution_count": 4,
     "metadata": {},
     "output_type": "execute_result"
    }
   ],
   "source": [
    "len(twenty_train.target_names)"
   ]
  },
  {
   "cell_type": "markdown",
   "id": "2cf789a8",
   "metadata": {},
   "source": [
    "# Create Features"
   ]
  },
  {
   "cell_type": "code",
   "execution_count": 5,
   "id": "fb85225d",
   "metadata": {},
   "outputs": [],
   "source": [
    "count_vect = CountVectorizer()\n",
    "X_train_counts = count_vect.fit_transform(twenty_train.data)\n",
    "X_test_counts = count_vect.transform(twenty_test.data)"
   ]
  },
  {
   "cell_type": "code",
   "execution_count": 6,
   "id": "349b75c8",
   "metadata": {},
   "outputs": [],
   "source": [
    "tf_transformer = TfidfTransformer(use_idf=False).fit(X_train_counts)\n",
    "X_train_tf = tf_transformer.transform(X_train_counts)\n",
    "X_test_tf = tf_transformer.transform(X_test_counts)"
   ]
  },
  {
   "cell_type": "code",
   "execution_count": 7,
   "id": "bae16023",
   "metadata": {},
   "outputs": [],
   "source": [
    "tfidf_transformer = TfidfTransformer().fit(X_train_counts)\n",
    "X_train_tfidf = tfidf_transformer.transform(X_train_counts)\n",
    "X_test_tfidf = tfidf_transformer.transform(X_test_counts)"
   ]
  },
  {
   "cell_type": "markdown",
   "id": "644ea976",
   "metadata": {},
   "source": [
    "# Models"
   ]
  },
  {
   "cell_type": "code",
   "execution_count": 8,
   "id": "aa71bc3c",
   "metadata": {},
   "outputs": [],
   "source": [
    "y_train, y_test = twenty_train.target, twenty_test.target"
   ]
  },
  {
   "cell_type": "code",
   "execution_count": 9,
   "id": "e423b9d2",
   "metadata": {},
   "outputs": [
    {
     "data": {
      "text/plain": [
       "array([ 7,  5,  0, ...,  9,  6, 15])"
      ]
     },
     "execution_count": 9,
     "metadata": {},
     "output_type": "execute_result"
    }
   ],
   "source": [
    "y_test"
   ]
  },
  {
   "cell_type": "markdown",
   "id": "1a44d206",
   "metadata": {},
   "source": [
    "## Naive Bayes"
   ]
  },
  {
   "cell_type": "code",
   "execution_count": 10,
   "id": "061d6e59",
   "metadata": {},
   "outputs": [],
   "source": [
    "nb_clf_counts = MultinomialNB().fit(X_train_counts, y_train)\n",
    "nb_clf_tf = MultinomialNB().fit(X_train_tf, y_train)\n",
    "nb_clf_tfidf = MultinomialNB().fit(X_train_tfidf, y_train)"
   ]
  },
  {
   "cell_type": "code",
   "execution_count": 11,
   "id": "987e6541",
   "metadata": {},
   "outputs": [
    {
     "name": "stdout",
     "output_type": "stream",
     "text": [
      "                          precision    recall  f1-score   support\n",
      "\n",
      "             alt.atheism       0.79      0.77      0.78       319\n",
      "           comp.graphics       0.67      0.74      0.70       389\n",
      " comp.os.ms-windows.misc       0.20      0.00      0.01       394\n",
      "comp.sys.ibm.pc.hardware       0.56      0.77      0.65       392\n",
      "   comp.sys.mac.hardware       0.84      0.75      0.79       385\n",
      "          comp.windows.x       0.65      0.84      0.73       395\n",
      "            misc.forsale       0.93      0.65      0.77       390\n",
      "               rec.autos       0.87      0.91      0.89       396\n",
      "         rec.motorcycles       0.96      0.92      0.94       398\n",
      "      rec.sport.baseball       0.96      0.87      0.91       397\n",
      "        rec.sport.hockey       0.93      0.96      0.95       399\n",
      "               sci.crypt       0.67      0.95      0.78       396\n",
      "         sci.electronics       0.79      0.66      0.72       393\n",
      "                 sci.med       0.87      0.82      0.85       396\n",
      "               sci.space       0.83      0.89      0.86       394\n",
      "  soc.religion.christian       0.70      0.96      0.81       398\n",
      "      talk.politics.guns       0.69      0.91      0.79       364\n",
      "   talk.politics.mideast       0.85      0.94      0.89       376\n",
      "      talk.politics.misc       0.58      0.63      0.60       310\n",
      "      talk.religion.misc       0.89      0.33      0.49       251\n",
      "\n",
      "                accuracy                           0.77      7532\n",
      "               macro avg       0.76      0.76      0.75      7532\n",
      "            weighted avg       0.76      0.77      0.75      7532\n",
      "\n"
     ]
    }
   ],
   "source": [
    "y_test_nb_counts = nb_clf_counts.predict(X_test_counts)\n",
    "print(classification_report(y_test, y_test_nb_counts, target_names=twenty_test.target_names))"
   ]
  },
  {
   "cell_type": "code",
   "execution_count": 12,
   "id": "f32d3315",
   "metadata": {},
   "outputs": [
    {
     "name": "stdout",
     "output_type": "stream",
     "text": [
      "                          precision    recall  f1-score   support\n",
      "\n",
      "             alt.atheism       0.85      0.24      0.37       319\n",
      "           comp.graphics       0.71      0.60      0.65       389\n",
      " comp.os.ms-windows.misc       0.79      0.65      0.71       394\n",
      "comp.sys.ibm.pc.hardware       0.63      0.75      0.69       392\n",
      "   comp.sys.mac.hardware       0.86      0.68      0.76       385\n",
      "          comp.windows.x       0.88      0.68      0.77       395\n",
      "            misc.forsale       0.90      0.72      0.80       390\n",
      "               rec.autos       0.71      0.92      0.80       396\n",
      "         rec.motorcycles       0.84      0.91      0.87       398\n",
      "      rec.sport.baseball       0.86      0.85      0.86       397\n",
      "        rec.sport.hockey       0.90      0.93      0.91       399\n",
      "               sci.crypt       0.52      0.96      0.67       396\n",
      "         sci.electronics       0.78      0.52      0.63       393\n",
      "                 sci.med       0.82      0.76      0.79       396\n",
      "               sci.space       0.83      0.81      0.82       394\n",
      "  soc.religion.christian       0.34      0.98      0.51       398\n",
      "      talk.politics.guns       0.66      0.80      0.73       364\n",
      "   talk.politics.mideast       0.96      0.72      0.82       376\n",
      "      talk.politics.misc       1.00      0.17      0.29       310\n",
      "      talk.religion.misc       1.00      0.01      0.02       251\n",
      "\n",
      "                accuracy                           0.71      7532\n",
      "               macro avg       0.79      0.68      0.67      7532\n",
      "            weighted avg       0.79      0.71      0.69      7532\n",
      "\n"
     ]
    }
   ],
   "source": [
    "y_test_nb_tf = nb_clf_tf.predict(X_test_tf)\n",
    "print(classification_report(y_test, y_test_nb_tf, target_names=twenty_test.target_names))"
   ]
  },
  {
   "cell_type": "code",
   "execution_count": 13,
   "id": "1761d60d",
   "metadata": {},
   "outputs": [
    {
     "name": "stdout",
     "output_type": "stream",
     "text": [
      "                          precision    recall  f1-score   support\n",
      "\n",
      "             alt.atheism       0.80      0.52      0.63       319\n",
      "           comp.graphics       0.81      0.65      0.72       389\n",
      " comp.os.ms-windows.misc       0.82      0.65      0.73       394\n",
      "comp.sys.ibm.pc.hardware       0.67      0.78      0.72       392\n",
      "   comp.sys.mac.hardware       0.86      0.77      0.81       385\n",
      "          comp.windows.x       0.89      0.75      0.82       395\n",
      "            misc.forsale       0.93      0.69      0.80       390\n",
      "               rec.autos       0.85      0.92      0.88       396\n",
      "         rec.motorcycles       0.94      0.93      0.93       398\n",
      "      rec.sport.baseball       0.92      0.90      0.91       397\n",
      "        rec.sport.hockey       0.89      0.97      0.93       399\n",
      "               sci.crypt       0.59      0.97      0.74       396\n",
      "         sci.electronics       0.84      0.60      0.70       393\n",
      "                 sci.med       0.92      0.74      0.82       396\n",
      "               sci.space       0.84      0.89      0.87       394\n",
      "  soc.religion.christian       0.44      0.98      0.61       398\n",
      "      talk.politics.guns       0.64      0.94      0.76       364\n",
      "   talk.politics.mideast       0.93      0.91      0.92       376\n",
      "      talk.politics.misc       0.96      0.42      0.58       310\n",
      "      talk.religion.misc       0.97      0.14      0.24       251\n",
      "\n",
      "                accuracy                           0.77      7532\n",
      "               macro avg       0.83      0.76      0.76      7532\n",
      "            weighted avg       0.82      0.77      0.77      7532\n",
      "\n"
     ]
    }
   ],
   "source": [
    "y_test_nb_tfidf = nb_clf_tfidf.predict(X_test_tfidf)\n",
    "print(classification_report(y_test, y_test_nb_tfidf, target_names=twenty_test.target_names))"
   ]
  },
  {
   "cell_type": "markdown",
   "id": "93d9e2f2",
   "metadata": {},
   "source": [
    "## Decision Tree Classifier"
   ]
  },
  {
   "cell_type": "code",
   "execution_count": 14,
   "id": "9f445d76",
   "metadata": {},
   "outputs": [],
   "source": [
    "dt_clf_counts = DecisionTreeClassifier().fit(X_train_counts, y_train)\n",
    "dt_clf_tf = DecisionTreeClassifier().fit(X_train_tf, y_train)\n",
    "dt_clf_tfidf = DecisionTreeClassifier().fit(X_train_tfidf, y_train)"
   ]
  },
  {
   "cell_type": "code",
   "execution_count": 15,
   "id": "d810165a",
   "metadata": {},
   "outputs": [
    {
     "name": "stdout",
     "output_type": "stream",
     "text": [
      "                          precision    recall  f1-score   support\n",
      "\n",
      "             alt.atheism       0.49      0.47      0.48       319\n",
      "           comp.graphics       0.46      0.46      0.46       389\n",
      " comp.os.ms-windows.misc       0.57      0.61      0.59       394\n",
      "comp.sys.ibm.pc.hardware       0.43      0.46      0.44       392\n",
      "   comp.sys.mac.hardware       0.55      0.58      0.56       385\n",
      "          comp.windows.x       0.49      0.47      0.48       395\n",
      "            misc.forsale       0.71      0.71      0.71       390\n",
      "               rec.autos       0.58      0.64      0.61       396\n",
      "         rec.motorcycles       0.74      0.77      0.75       398\n",
      "      rec.sport.baseball       0.60      0.61      0.60       397\n",
      "        rec.sport.hockey       0.73      0.70      0.71       399\n",
      "               sci.crypt       0.80      0.71      0.75       396\n",
      "         sci.electronics       0.35      0.31      0.33       393\n",
      "                 sci.med       0.52      0.43      0.47       396\n",
      "               sci.space       0.63      0.68      0.66       394\n",
      "  soc.religion.christian       0.74      0.73      0.73       398\n",
      "      talk.politics.guns       0.52      0.64      0.58       364\n",
      "   talk.politics.mideast       0.73      0.61      0.67       376\n",
      "      talk.politics.misc       0.36      0.43      0.39       310\n",
      "      talk.religion.misc       0.32      0.29      0.30       251\n",
      "\n",
      "                accuracy                           0.57      7532\n",
      "               macro avg       0.57      0.56      0.56      7532\n",
      "            weighted avg       0.57      0.57      0.57      7532\n",
      "\n"
     ]
    }
   ],
   "source": [
    "y_test_dt_counts = dt_clf_counts.predict(X_test_counts)\n",
    "print(classification_report(y_test, y_test_dt_counts, target_names=twenty_test.target_names))"
   ]
  },
  {
   "cell_type": "code",
   "execution_count": 16,
   "id": "a0d48b28",
   "metadata": {},
   "outputs": [
    {
     "name": "stdout",
     "output_type": "stream",
     "text": [
      "                          precision    recall  f1-score   support\n",
      "\n",
      "             alt.atheism       0.48      0.45      0.46       319\n",
      "           comp.graphics       0.43      0.42      0.42       389\n",
      " comp.os.ms-windows.misc       0.51      0.58      0.55       394\n",
      "comp.sys.ibm.pc.hardware       0.42      0.45      0.44       392\n",
      "   comp.sys.mac.hardware       0.51      0.56      0.53       385\n",
      "          comp.windows.x       0.56      0.50      0.53       395\n",
      "            misc.forsale       0.67      0.71      0.69       390\n",
      "               rec.autos       0.55      0.55      0.55       396\n",
      "         rec.motorcycles       0.75      0.80      0.77       398\n",
      "      rec.sport.baseball       0.60      0.55      0.57       397\n",
      "        rec.sport.hockey       0.74      0.72      0.73       399\n",
      "               sci.crypt       0.81      0.69      0.75       396\n",
      "         sci.electronics       0.32      0.34      0.33       393\n",
      "                 sci.med       0.49      0.49      0.49       396\n",
      "               sci.space       0.61      0.60      0.61       394\n",
      "  soc.religion.christian       0.67      0.70      0.69       398\n",
      "      talk.politics.guns       0.48      0.63      0.55       364\n",
      "   talk.politics.mideast       0.78      0.61      0.69       376\n",
      "      talk.politics.misc       0.42      0.36      0.39       310\n",
      "      talk.religion.misc       0.39      0.37      0.38       251\n",
      "\n",
      "                accuracy                           0.56      7532\n",
      "               macro avg       0.56      0.55      0.55      7532\n",
      "            weighted avg       0.57      0.56      0.56      7532\n",
      "\n"
     ]
    }
   ],
   "source": [
    "y_test_dt_tf = dt_clf_tf.predict(X_test_tf)\n",
    "print(classification_report(y_test, y_test_dt_tf, target_names=twenty_test.target_names))"
   ]
  },
  {
   "cell_type": "code",
   "execution_count": 17,
   "id": "bf7bedf5",
   "metadata": {},
   "outputs": [
    {
     "name": "stdout",
     "output_type": "stream",
     "text": [
      "                          precision    recall  f1-score   support\n",
      "\n",
      "             alt.atheism       0.50      0.49      0.50       319\n",
      "           comp.graphics       0.43      0.43      0.43       389\n",
      " comp.os.ms-windows.misc       0.51      0.58      0.54       394\n",
      "comp.sys.ibm.pc.hardware       0.45      0.44      0.45       392\n",
      "   comp.sys.mac.hardware       0.54      0.58      0.56       385\n",
      "          comp.windows.x       0.46      0.48      0.47       395\n",
      "            misc.forsale       0.67      0.73      0.70       390\n",
      "               rec.autos       0.66      0.58      0.62       396\n",
      "         rec.motorcycles       0.70      0.77      0.74       398\n",
      "      rec.sport.baseball       0.54      0.55      0.54       397\n",
      "        rec.sport.hockey       0.65      0.67      0.66       399\n",
      "               sci.crypt       0.77      0.70      0.73       396\n",
      "         sci.electronics       0.35      0.34      0.35       393\n",
      "                 sci.med       0.50      0.44      0.47       396\n",
      "               sci.space       0.67      0.63      0.65       394\n",
      "  soc.religion.christian       0.66      0.71      0.69       398\n",
      "      talk.politics.guns       0.51      0.63      0.56       364\n",
      "   talk.politics.mideast       0.79      0.59      0.67       376\n",
      "      talk.politics.misc       0.42      0.39      0.40       310\n",
      "      talk.religion.misc       0.31      0.31      0.31       251\n",
      "\n",
      "                accuracy                           0.56      7532\n",
      "               macro avg       0.55      0.55      0.55      7532\n",
      "            weighted avg       0.56      0.56      0.56      7532\n",
      "\n"
     ]
    }
   ],
   "source": [
    "y_test_dt_tfidf = dt_clf_tfidf.predict(X_test_tfidf)\n",
    "print(classification_report(y_test, y_test_dt_tfidf, target_names=twenty_test.target_names))"
   ]
  },
  {
   "cell_type": "markdown",
   "id": "0023f0b5",
   "metadata": {},
   "source": [
    "## SVM"
   ]
  },
  {
   "cell_type": "code",
   "execution_count": 18,
   "id": "9b6e389b",
   "metadata": {},
   "outputs": [],
   "source": [
    "svm_clf_counts = SVC().fit(X_train_counts, y_train)\n",
    "svm_clf_tf = SVC().fit(X_train_tf, y_train)\n",
    "svm_clf_tfidf = SVC().fit(X_train_tfidf, y_train)"
   ]
  },
  {
   "cell_type": "code",
   "execution_count": 19,
   "id": "f248bba1",
   "metadata": {},
   "outputs": [
    {
     "name": "stdout",
     "output_type": "stream",
     "text": [
      "                          precision    recall  f1-score   support\n",
      "\n",
      "             alt.atheism       0.33      0.02      0.03       319\n",
      "           comp.graphics       0.05      0.17      0.08       389\n",
      " comp.os.ms-windows.misc       0.33      0.02      0.03       394\n",
      "comp.sys.ibm.pc.hardware       0.63      0.03      0.06       392\n",
      "   comp.sys.mac.hardware       1.00      0.00      0.01       385\n",
      "          comp.windows.x       0.64      0.05      0.09       395\n",
      "            misc.forsale       0.09      0.94      0.17       390\n",
      "               rec.autos       0.39      0.10      0.15       396\n",
      "         rec.motorcycles       0.10      0.25      0.15       398\n",
      "      rec.sport.baseball       0.52      0.11      0.18       397\n",
      "        rec.sport.hockey       0.58      0.08      0.14       399\n",
      "               sci.crypt       0.41      0.16      0.23       396\n",
      "         sci.electronics       0.21      0.02      0.03       393\n",
      "                 sci.med       0.28      0.10      0.15       396\n",
      "               sci.space       0.56      0.05      0.09       394\n",
      "  soc.religion.christian       0.42      0.37      0.39       398\n",
      "      talk.politics.guns       0.33      0.16      0.21       364\n",
      "   talk.politics.mideast       0.74      0.26      0.38       376\n",
      "      talk.politics.misc       0.73      0.05      0.10       310\n",
      "      talk.religion.misc       0.00      0.00      0.00       251\n",
      "\n",
      "                accuracy                           0.15      7532\n",
      "               macro avg       0.42      0.15      0.13      7532\n",
      "            weighted avg       0.42      0.15      0.14      7532\n",
      "\n"
     ]
    },
    {
     "name": "stderr",
     "output_type": "stream",
     "text": [
      "/Users/arsen/miniconda3/envs/text_min/lib/python3.10/site-packages/sklearn/metrics/_classification.py:1469: UndefinedMetricWarning: Precision and F-score are ill-defined and being set to 0.0 in labels with no predicted samples. Use `zero_division` parameter to control this behavior.\n",
      "  _warn_prf(average, modifier, msg_start, len(result))\n",
      "/Users/arsen/miniconda3/envs/text_min/lib/python3.10/site-packages/sklearn/metrics/_classification.py:1469: UndefinedMetricWarning: Precision and F-score are ill-defined and being set to 0.0 in labels with no predicted samples. Use `zero_division` parameter to control this behavior.\n",
      "  _warn_prf(average, modifier, msg_start, len(result))\n",
      "/Users/arsen/miniconda3/envs/text_min/lib/python3.10/site-packages/sklearn/metrics/_classification.py:1469: UndefinedMetricWarning: Precision and F-score are ill-defined and being set to 0.0 in labels with no predicted samples. Use `zero_division` parameter to control this behavior.\n",
      "  _warn_prf(average, modifier, msg_start, len(result))\n"
     ]
    }
   ],
   "source": [
    "y_test_svm_counts = svm_clf_counts.predict(X_test_counts)\n",
    "print(classification_report(y_test, y_test_svm_counts, target_names=twenty_test.target_names))"
   ]
  },
  {
   "cell_type": "code",
   "execution_count": 20,
   "id": "be7a002b",
   "metadata": {},
   "outputs": [
    {
     "name": "stdout",
     "output_type": "stream",
     "text": [
      "                          precision    recall  f1-score   support\n",
      "\n",
      "             alt.atheism       0.67      0.63      0.65       319\n",
      "           comp.graphics       0.55      0.76      0.64       389\n",
      " comp.os.ms-windows.misc       0.73      0.62      0.67       394\n",
      "comp.sys.ibm.pc.hardware       0.67      0.66      0.66       392\n",
      "   comp.sys.mac.hardware       0.75      0.75      0.75       385\n",
      "          comp.windows.x       0.76      0.68      0.72       395\n",
      "            misc.forsale       0.74      0.89      0.81       390\n",
      "               rec.autos       0.78      0.79      0.79       396\n",
      "         rec.motorcycles       0.86      0.87      0.86       398\n",
      "      rec.sport.baseball       0.74      0.83      0.78       397\n",
      "        rec.sport.hockey       0.93      0.86      0.89       399\n",
      "               sci.crypt       0.94      0.80      0.86       396\n",
      "         sci.electronics       0.59      0.72      0.65       393\n",
      "                 sci.med       0.69      0.63      0.66       396\n",
      "               sci.space       0.92      0.83      0.87       394\n",
      "  soc.religion.christian       0.76      0.91      0.83       398\n",
      "      talk.politics.guns       0.69      0.81      0.74       364\n",
      "   talk.politics.mideast       0.94      0.74      0.83       376\n",
      "      talk.politics.misc       0.60      0.51      0.55       310\n",
      "      talk.religion.misc       0.67      0.41      0.50       251\n",
      "\n",
      "                accuracy                           0.74      7532\n",
      "               macro avg       0.75      0.74      0.74      7532\n",
      "            weighted avg       0.75      0.74      0.74      7532\n",
      "\n"
     ]
    }
   ],
   "source": [
    "y_test_svm_tf = svm_clf_tf.predict(X_test_tf)\n",
    "print(classification_report(y_test, y_test_svm_tf, target_names=twenty_test.target_names))"
   ]
  },
  {
   "cell_type": "code",
   "execution_count": 21,
   "id": "c1228ef8",
   "metadata": {},
   "outputs": [
    {
     "name": "stdout",
     "output_type": "stream",
     "text": [
      "                          precision    recall  f1-score   support\n",
      "\n",
      "             alt.atheism       0.83      0.71      0.76       319\n",
      "           comp.graphics       0.62      0.82      0.71       389\n",
      " comp.os.ms-windows.misc       0.80      0.70      0.75       394\n",
      "comp.sys.ibm.pc.hardware       0.73      0.78      0.76       392\n",
      "   comp.sys.mac.hardware       0.82      0.83      0.82       385\n",
      "          comp.windows.x       0.83      0.73      0.77       395\n",
      "            misc.forsale       0.73      0.91      0.81       390\n",
      "               rec.autos       0.90      0.87      0.89       396\n",
      "         rec.motorcycles       0.96      0.93      0.95       398\n",
      "      rec.sport.baseball       0.88      0.91      0.90       397\n",
      "        rec.sport.hockey       0.97      0.91      0.94       399\n",
      "               sci.crypt       0.96      0.85      0.90       396\n",
      "         sci.electronics       0.65      0.85      0.74       393\n",
      "                 sci.med       0.88      0.78      0.82       396\n",
      "               sci.space       0.93      0.88      0.90       394\n",
      "  soc.religion.christian       0.79      0.92      0.85       398\n",
      "      talk.politics.guns       0.75      0.88      0.81       364\n",
      "   talk.politics.mideast       0.97      0.81      0.88       376\n",
      "      talk.politics.misc       0.75      0.59      0.66       310\n",
      "      talk.religion.misc       0.79      0.55      0.65       251\n",
      "\n",
      "                accuracy                           0.82      7532\n",
      "               macro avg       0.83      0.81      0.81      7532\n",
      "            weighted avg       0.83      0.82      0.82      7532\n",
      "\n"
     ]
    }
   ],
   "source": [
    "y_test_svm_tfidf = svm_clf_tfidf.predict(X_test_tfidf)\n",
    "print(classification_report(y_test, y_test_svm_tfidf, target_names=twenty_test.target_names))"
   ]
  },
  {
   "cell_type": "markdown",
   "id": "77ca0e22",
   "metadata": {},
   "source": [
    "# Experiments with CountVectorizer"
   ]
  },
  {
   "cell_type": "markdown",
   "id": "c1217aea",
   "metadata": {},
   "source": [
    "### Lowercase"
   ]
  },
  {
   "cell_type": "code",
   "execution_count": 22,
   "id": "cfcd5689",
   "metadata": {},
   "outputs": [],
   "source": [
    "count_vect = CountVectorizer(lowercase=False)\n",
    "X_train_counts = count_vect.fit_transform(twenty_train.data)\n",
    "X_test_counts = count_vect.transform(twenty_test.data)\n",
    "tfidf_transformer = TfidfTransformer().fit(X_train_counts)\n",
    "X_train_tfidf = tfidf_transformer.transform(X_train_counts)\n",
    "X_test_tfidf = tfidf_transformer.transform(X_test_counts)"
   ]
  },
  {
   "cell_type": "code",
   "execution_count": 23,
   "id": "1adadcda",
   "metadata": {},
   "outputs": [
    {
     "name": "stdout",
     "output_type": "stream",
     "text": [
      "                          precision    recall  f1-score   support\n",
      "\n",
      "             alt.atheism       0.82      0.71      0.76       319\n",
      "           comp.graphics       0.59      0.80      0.68       389\n",
      " comp.os.ms-windows.misc       0.79      0.69      0.74       394\n",
      "comp.sys.ibm.pc.hardware       0.72      0.76      0.74       392\n",
      "   comp.sys.mac.hardware       0.84      0.79      0.82       385\n",
      "          comp.windows.x       0.83      0.72      0.77       395\n",
      "            misc.forsale       0.63      0.92      0.75       390\n",
      "               rec.autos       0.90      0.88      0.89       396\n",
      "         rec.motorcycles       0.97      0.92      0.94       398\n",
      "      rec.sport.baseball       0.88      0.90      0.89       397\n",
      "        rec.sport.hockey       0.97      0.90      0.94       399\n",
      "               sci.crypt       0.95      0.85      0.90       396\n",
      "         sci.electronics       0.65      0.83      0.73       393\n",
      "                 sci.med       0.88      0.76      0.82       396\n",
      "               sci.space       0.92      0.86      0.89       394\n",
      "  soc.religion.christian       0.78      0.92      0.85       398\n",
      "      talk.politics.guns       0.75      0.86      0.80       364\n",
      "   talk.politics.mideast       0.98      0.80      0.88       376\n",
      "      talk.politics.misc       0.78      0.59      0.67       310\n",
      "      talk.religion.misc       0.83      0.52      0.64       251\n",
      "\n",
      "                accuracy                           0.81      7532\n",
      "               macro avg       0.82      0.80      0.80      7532\n",
      "            weighted avg       0.82      0.81      0.81      7532\n",
      "\n"
     ]
    }
   ],
   "source": [
    "svm_clf_tfidf = SVC().fit(X_train_tfidf, y_train)\n",
    "y_test_svm_tfidf = svm_clf_tfidf.predict(X_test_tfidf)\n",
    "print(classification_report(y_test, y_test_svm_tfidf, target_names=twenty_test.target_names))"
   ]
  },
  {
   "cell_type": "markdown",
   "id": "fc35a95f",
   "metadata": {},
   "source": [
    "### Stopwords"
   ]
  },
  {
   "cell_type": "code",
   "execution_count": 24,
   "id": "2d440e99",
   "metadata": {},
   "outputs": [],
   "source": [
    "count_vect = CountVectorizer(stop_words='english')\n",
    "X_train_counts = count_vect.fit_transform(twenty_train.data)\n",
    "X_test_counts = count_vect.transform(twenty_test.data)\n",
    "tfidf_transformer = TfidfTransformer().fit(X_train_counts)\n",
    "X_train_tfidf = tfidf_transformer.transform(X_train_counts)\n",
    "X_test_tfidf = tfidf_transformer.transform(X_test_counts)"
   ]
  },
  {
   "cell_type": "code",
   "execution_count": 25,
   "id": "dfa3dcd5",
   "metadata": {},
   "outputs": [
    {
     "name": "stdout",
     "output_type": "stream",
     "text": [
      "                          precision    recall  f1-score   support\n",
      "\n",
      "             alt.atheism       0.84      0.70      0.76       319\n",
      "           comp.graphics       0.64      0.82      0.72       389\n",
      " comp.os.ms-windows.misc       0.80      0.74      0.77       394\n",
      "comp.sys.ibm.pc.hardware       0.71      0.78      0.74       392\n",
      "   comp.sys.mac.hardware       0.83      0.83      0.83       385\n",
      "          comp.windows.x       0.83      0.74      0.78       395\n",
      "            misc.forsale       0.75      0.90      0.82       390\n",
      "               rec.autos       0.89      0.88      0.88       396\n",
      "         rec.motorcycles       0.98      0.93      0.96       398\n",
      "      rec.sport.baseball       0.92      0.92      0.92       397\n",
      "        rec.sport.hockey       0.96      0.93      0.94       399\n",
      "               sci.crypt       0.97      0.86      0.91       396\n",
      "         sci.electronics       0.64      0.84      0.72       393\n",
      "                 sci.med       0.87      0.83      0.85       396\n",
      "               sci.space       0.92      0.88      0.90       394\n",
      "  soc.religion.christian       0.80      0.93      0.86       398\n",
      "      talk.politics.guns       0.76      0.88      0.82       364\n",
      "   talk.politics.mideast       0.98      0.80      0.88       376\n",
      "      talk.politics.misc       0.82      0.60      0.69       310\n",
      "      talk.religion.misc       0.81      0.55      0.66       251\n",
      "\n",
      "                accuracy                           0.83      7532\n",
      "               macro avg       0.84      0.82      0.82      7532\n",
      "            weighted avg       0.84      0.83      0.83      7532\n",
      "\n"
     ]
    }
   ],
   "source": [
    "svm_clf_tfidf = SVC().fit(X_train_tfidf, y_train)\n",
    "y_test_svm_tfidf = svm_clf_tfidf.predict(X_test_tfidf)\n",
    "print(classification_report(y_test, y_test_svm_tfidf, target_names=twenty_test.target_names))"
   ]
  },
  {
   "cell_type": "markdown",
   "id": "f0786810",
   "metadata": {},
   "source": [
    "### Analyzer and ngram_range"
   ]
  },
  {
   "cell_type": "code",
   "execution_count": 26,
   "id": "1c3fa05c",
   "metadata": {},
   "outputs": [],
   "source": [
    "count_vect = CountVectorizer(stop_words='english', analyzer='word', ngram_range=(2,2))\n",
    "X_train_counts = count_vect.fit_transform(twenty_train.data)\n",
    "X_test_counts = count_vect.transform(twenty_test.data)\n",
    "tfidf_transformer = TfidfTransformer().fit(X_train_counts)\n",
    "X_train_tfidf = tfidf_transformer.transform(X_train_counts)\n",
    "X_test_tfidf = tfidf_transformer.transform(X_test_counts)"
   ]
  },
  {
   "cell_type": "code",
   "execution_count": 27,
   "id": "9aa9a5a5",
   "metadata": {},
   "outputs": [
    {
     "name": "stdout",
     "output_type": "stream",
     "text": [
      "                          precision    recall  f1-score   support\n",
      "\n",
      "             alt.atheism       0.85      0.66      0.75       319\n",
      "           comp.graphics       0.43      0.63      0.51       389\n",
      " comp.os.ms-windows.misc       0.73      0.52      0.61       394\n",
      "comp.sys.ibm.pc.hardware       0.39      0.67      0.49       392\n",
      "   comp.sys.mac.hardware       0.65      0.63      0.64       385\n",
      "          comp.windows.x       0.63      0.53      0.58       395\n",
      "            misc.forsale       0.35      0.84      0.49       390\n",
      "               rec.autos       0.69      0.63      0.66       396\n",
      "         rec.motorcycles       0.89      0.80      0.85       398\n",
      "      rec.sport.baseball       0.75      0.73      0.74       397\n",
      "        rec.sport.hockey       0.75      0.76      0.76       399\n",
      "               sci.crypt       0.90      0.80      0.85       396\n",
      "         sci.electronics       0.63      0.58      0.60       393\n",
      "                 sci.med       0.79      0.41      0.54       396\n",
      "               sci.space       0.82      0.74      0.78       394\n",
      "  soc.religion.christian       0.82      0.88      0.85       398\n",
      "      talk.politics.guns       0.84      0.72      0.78       364\n",
      "   talk.politics.mideast       0.95      0.64      0.77       376\n",
      "      talk.politics.misc       0.94      0.55      0.69       310\n",
      "      talk.religion.misc       0.82      0.47      0.60       251\n",
      "\n",
      "                accuracy                           0.67      7532\n",
      "               macro avg       0.73      0.66      0.68      7532\n",
      "            weighted avg       0.72      0.67      0.68      7532\n",
      "\n"
     ]
    }
   ],
   "source": [
    "svm_clf_tfidf = SVC().fit(X_train_tfidf, y_train)\n",
    "y_test_svm_tfidf = svm_clf_tfidf.predict(X_test_tfidf)\n",
    "print(classification_report(y_test, y_test_svm_tfidf, target_names=twenty_test.target_names))"
   ]
  },
  {
   "cell_type": "code",
   "execution_count": 28,
   "id": "c0aea91c",
   "metadata": {},
   "outputs": [
    {
     "name": "stderr",
     "output_type": "stream",
     "text": [
      "/Users/arsen/miniconda3/envs/text_min/lib/python3.10/site-packages/sklearn/feature_extraction/text.py:547: UserWarning: The parameter 'stop_words' will not be used since 'analyzer' != 'word'\n",
      "  warnings.warn(\n"
     ]
    }
   ],
   "source": [
    "count_vect = CountVectorizer(stop_words='english', analyzer='char', ngram_range=(1,1))\n",
    "X_train_counts = count_vect.fit_transform(twenty_train.data)\n",
    "X_test_counts = count_vect.transform(twenty_test.data)\n",
    "tfidf_transformer = TfidfTransformer().fit(X_train_counts)\n",
    "X_train_tfidf = tfidf_transformer.transform(X_train_counts)\n",
    "X_test_tfidf = tfidf_transformer.transform(X_test_counts)"
   ]
  },
  {
   "cell_type": "code",
   "execution_count": 29,
   "id": "ed96c792",
   "metadata": {},
   "outputs": [
    {
     "name": "stdout",
     "output_type": "stream",
     "text": [
      "                          precision    recall  f1-score   support\n",
      "\n",
      "             alt.atheism       0.21      0.24      0.23       319\n",
      "           comp.graphics       0.21      0.21      0.21       389\n",
      " comp.os.ms-windows.misc       0.27      0.22      0.24       394\n",
      "comp.sys.ibm.pc.hardware       0.30      0.32      0.31       392\n",
      "   comp.sys.mac.hardware       0.33      0.12      0.18       385\n",
      "          comp.windows.x       0.49      0.41      0.44       395\n",
      "            misc.forsale       0.45      0.58      0.51       390\n",
      "               rec.autos       0.19      0.21      0.20       396\n",
      "         rec.motorcycles       0.31      0.34      0.33       398\n",
      "      rec.sport.baseball       0.27      0.27      0.27       397\n",
      "        rec.sport.hockey       0.39      0.34      0.36       399\n",
      "               sci.crypt       0.28      0.50      0.36       396\n",
      "         sci.electronics       0.12      0.07      0.09       393\n",
      "                 sci.med       0.20      0.21      0.20       396\n",
      "               sci.space       0.22      0.22      0.22       394\n",
      "  soc.religion.christian       0.24      0.54      0.33       398\n",
      "      talk.politics.guns       0.21      0.23      0.22       364\n",
      "   talk.politics.mideast       0.39      0.43      0.41       376\n",
      "      talk.politics.misc       0.36      0.08      0.13       310\n",
      "      talk.religion.misc       0.00      0.00      0.00       251\n",
      "\n",
      "                accuracy                           0.28      7532\n",
      "               macro avg       0.27      0.28      0.26      7532\n",
      "            weighted avg       0.28      0.28      0.27      7532\n",
      "\n"
     ]
    }
   ],
   "source": [
    "svm_clf_tfidf = SVC().fit(X_train_tfidf, y_train)\n",
    "y_test_svm_tfidf = svm_clf_tfidf.predict(X_test_tfidf)\n",
    "print(classification_report(y_test, y_test_svm_tfidf, target_names=twenty_test.target_names))"
   ]
  },
  {
   "cell_type": "code",
   "execution_count": 30,
   "id": "831e5254",
   "metadata": {},
   "outputs": [
    {
     "name": "stderr",
     "output_type": "stream",
     "text": [
      "/Users/arsen/miniconda3/envs/text_min/lib/python3.10/site-packages/sklearn/feature_extraction/text.py:547: UserWarning: The parameter 'stop_words' will not be used since 'analyzer' != 'word'\n",
      "  warnings.warn(\n"
     ]
    }
   ],
   "source": [
    "count_vect = CountVectorizer(stop_words='english', analyzer='char', ngram_range=(2,2))\n",
    "X_train_counts = count_vect.fit_transform(twenty_train.data)\n",
    "X_test_counts = count_vect.transform(twenty_test.data)\n",
    "tfidf_transformer = TfidfTransformer().fit(X_train_counts)\n",
    "X_train_tfidf = tfidf_transformer.transform(X_train_counts)\n",
    "X_test_tfidf = tfidf_transformer.transform(X_test_counts)"
   ]
  },
  {
   "cell_type": "code",
   "execution_count": 31,
   "id": "f1f6cc54",
   "metadata": {},
   "outputs": [
    {
     "name": "stdout",
     "output_type": "stream",
     "text": [
      "                          precision    recall  f1-score   support\n",
      "\n",
      "             alt.atheism       0.63      0.52      0.57       319\n",
      "           comp.graphics       0.41      0.54      0.47       389\n",
      " comp.os.ms-windows.misc       0.45      0.58      0.51       394\n",
      "comp.sys.ibm.pc.hardware       0.58      0.57      0.57       392\n",
      "   comp.sys.mac.hardware       0.63      0.51      0.57       385\n",
      "          comp.windows.x       0.85      0.71      0.77       395\n",
      "            misc.forsale       0.55      0.77      0.64       390\n",
      "               rec.autos       0.54      0.53      0.54       396\n",
      "         rec.motorcycles       0.56      0.74      0.64       398\n",
      "      rec.sport.baseball       0.70      0.69      0.69       397\n",
      "        rec.sport.hockey       0.78      0.75      0.77       399\n",
      "               sci.crypt       0.87      0.77      0.82       396\n",
      "         sci.electronics       0.46      0.44      0.45       393\n",
      "                 sci.med       0.58      0.51      0.54       396\n",
      "               sci.space       0.73      0.72      0.73       394\n",
      "  soc.religion.christian       0.67      0.79      0.72       398\n",
      "      talk.politics.guns       0.61      0.66      0.63       364\n",
      "   talk.politics.mideast       0.93      0.67      0.78       376\n",
      "      talk.politics.misc       0.56      0.46      0.50       310\n",
      "      talk.religion.misc       0.52      0.29      0.38       251\n",
      "\n",
      "                accuracy                           0.62      7532\n",
      "               macro avg       0.63      0.61      0.61      7532\n",
      "            weighted avg       0.63      0.62      0.62      7532\n",
      "\n"
     ]
    }
   ],
   "source": [
    "svm_clf_tfidf = SVC().fit(X_train_tfidf, y_train)\n",
    "y_test_svm_tfidf = svm_clf_tfidf.predict(X_test_tfidf)\n",
    "print(classification_report(y_test, y_test_svm_tfidf, target_names=twenty_test.target_names))"
   ]
  },
  {
   "cell_type": "code",
   "execution_count": 32,
   "id": "530d34e2",
   "metadata": {},
   "outputs": [
    {
     "name": "stderr",
     "output_type": "stream",
     "text": [
      "/Users/arsen/miniconda3/envs/text_min/lib/python3.10/site-packages/sklearn/feature_extraction/text.py:547: UserWarning: The parameter 'stop_words' will not be used since 'analyzer' != 'word'\n",
      "  warnings.warn(\n"
     ]
    }
   ],
   "source": [
    "count_vect = CountVectorizer(stop_words='english', analyzer='char_wb', ngram_range=(1,1))\n",
    "X_train_counts = count_vect.fit_transform(twenty_train.data)\n",
    "X_test_counts = count_vect.transform(twenty_test.data)\n",
    "tfidf_transformer = TfidfTransformer().fit(X_train_counts)\n",
    "X_train_tfidf = tfidf_transformer.transform(X_train_counts)\n",
    "X_test_tfidf = tfidf_transformer.transform(X_test_counts)"
   ]
  },
  {
   "cell_type": "code",
   "execution_count": 33,
   "id": "ee2c4e56",
   "metadata": {},
   "outputs": [
    {
     "name": "stdout",
     "output_type": "stream",
     "text": [
      "                          precision    recall  f1-score   support\n",
      "\n",
      "             alt.atheism       0.21      0.17      0.19       319\n",
      "           comp.graphics       0.18      0.15      0.17       389\n",
      " comp.os.ms-windows.misc       0.24      0.13      0.17       394\n",
      "comp.sys.ibm.pc.hardware       0.23      0.30      0.26       392\n",
      "   comp.sys.mac.hardware       0.22      0.04      0.07       385\n",
      "          comp.windows.x       0.46      0.32      0.38       395\n",
      "            misc.forsale       0.45      0.56      0.50       390\n",
      "               rec.autos       0.15      0.26      0.19       396\n",
      "         rec.motorcycles       0.25      0.21      0.23       398\n",
      "      rec.sport.baseball       0.21      0.20      0.20       397\n",
      "        rec.sport.hockey       0.38      0.13      0.20       399\n",
      "               sci.crypt       0.24      0.52      0.33       396\n",
      "         sci.electronics       0.14      0.07      0.09       393\n",
      "                 sci.med       0.16      0.14      0.15       396\n",
      "               sci.space       0.20      0.17      0.18       394\n",
      "  soc.religion.christian       0.19      0.59      0.29       398\n",
      "      talk.politics.guns       0.22      0.18      0.20       364\n",
      "   talk.politics.mideast       0.30      0.44      0.35       376\n",
      "      talk.politics.misc       0.50      0.04      0.07       310\n",
      "      talk.religion.misc       0.00      0.00      0.00       251\n",
      "\n",
      "                accuracy                           0.24      7532\n",
      "               macro avg       0.25      0.23      0.21      7532\n",
      "            weighted avg       0.25      0.24      0.22      7532\n",
      "\n"
     ]
    },
    {
     "name": "stderr",
     "output_type": "stream",
     "text": [
      "/Users/arsen/miniconda3/envs/text_min/lib/python3.10/site-packages/sklearn/metrics/_classification.py:1469: UndefinedMetricWarning: Precision and F-score are ill-defined and being set to 0.0 in labels with no predicted samples. Use `zero_division` parameter to control this behavior.\n",
      "  _warn_prf(average, modifier, msg_start, len(result))\n",
      "/Users/arsen/miniconda3/envs/text_min/lib/python3.10/site-packages/sklearn/metrics/_classification.py:1469: UndefinedMetricWarning: Precision and F-score are ill-defined and being set to 0.0 in labels with no predicted samples. Use `zero_division` parameter to control this behavior.\n",
      "  _warn_prf(average, modifier, msg_start, len(result))\n",
      "/Users/arsen/miniconda3/envs/text_min/lib/python3.10/site-packages/sklearn/metrics/_classification.py:1469: UndefinedMetricWarning: Precision and F-score are ill-defined and being set to 0.0 in labels with no predicted samples. Use `zero_division` parameter to control this behavior.\n",
      "  _warn_prf(average, modifier, msg_start, len(result))\n"
     ]
    }
   ],
   "source": [
    "svm_clf_tfidf = SVC().fit(X_train_tfidf, y_train)\n",
    "y_test_svm_tfidf = svm_clf_tfidf.predict(X_test_tfidf)\n",
    "print(classification_report(y_test, y_test_svm_tfidf, target_names=twenty_test.target_names))"
   ]
  },
  {
   "cell_type": "code",
   "execution_count": 34,
   "id": "e4eb9176",
   "metadata": {},
   "outputs": [
    {
     "name": "stderr",
     "output_type": "stream",
     "text": [
      "/Users/arsen/miniconda3/envs/text_min/lib/python3.10/site-packages/sklearn/feature_extraction/text.py:547: UserWarning: The parameter 'stop_words' will not be used since 'analyzer' != 'word'\n",
      "  warnings.warn(\n"
     ]
    }
   ],
   "source": [
    "count_vect = CountVectorizer(stop_words='english', analyzer='char_wb', ngram_range=(2,2))\n",
    "X_train_counts = count_vect.fit_transform(twenty_train.data)\n",
    "X_test_counts = count_vect.transform(twenty_test.data)\n",
    "tfidf_transformer = TfidfTransformer().fit(X_train_counts)\n",
    "X_train_tfidf = tfidf_transformer.transform(X_train_counts)\n",
    "X_test_tfidf = tfidf_transformer.transform(X_test_counts)"
   ]
  },
  {
   "cell_type": "code",
   "execution_count": 36,
   "id": "3182a4ad",
   "metadata": {},
   "outputs": [
    {
     "name": "stdout",
     "output_type": "stream",
     "text": [
      "                          precision    recall  f1-score   support\n",
      "\n",
      "             alt.atheism       0.63      0.52      0.57       319\n",
      "           comp.graphics       0.41      0.53      0.46       389\n",
      " comp.os.ms-windows.misc       0.45      0.57      0.50       394\n",
      "comp.sys.ibm.pc.hardware       0.59      0.57      0.58       392\n",
      "   comp.sys.mac.hardware       0.62      0.50      0.56       385\n",
      "          comp.windows.x       0.85      0.68      0.76       395\n",
      "            misc.forsale       0.55      0.76      0.64       390\n",
      "               rec.autos       0.54      0.53      0.54       396\n",
      "         rec.motorcycles       0.55      0.74      0.63       398\n",
      "      rec.sport.baseball       0.71      0.69      0.70       397\n",
      "        rec.sport.hockey       0.76      0.77      0.77       399\n",
      "               sci.crypt       0.87      0.76      0.81       396\n",
      "         sci.electronics       0.46      0.44      0.45       393\n",
      "                 sci.med       0.57      0.51      0.54       396\n",
      "               sci.space       0.71      0.72      0.72       394\n",
      "  soc.religion.christian       0.66      0.80      0.72       398\n",
      "      talk.politics.guns       0.61      0.65      0.63       364\n",
      "   talk.politics.mideast       0.94      0.67      0.78       376\n",
      "      talk.politics.misc       0.53      0.45      0.49       310\n",
      "      talk.religion.misc       0.51      0.27      0.36       251\n",
      "\n",
      "                accuracy                           0.62      7532\n",
      "               macro avg       0.63      0.61      0.61      7532\n",
      "            weighted avg       0.63      0.62      0.62      7532\n",
      "\n"
     ]
    }
   ],
   "source": [
    "svm_clf_tfidf = SVC().fit(X_train_tfidf, y_train)\n",
    "y_test_svm_tfidf = svm_clf_tfidf.predict(X_test_tfidf)\n",
    "print(classification_report(y_test, y_test_svm_tfidf, target_names=twenty_test.target_names))"
   ]
  },
  {
   "cell_type": "markdown",
   "id": "7d8f87f6",
   "metadata": {},
   "source": [
    "### max_features"
   ]
  },
  {
   "cell_type": "code",
   "execution_count": 40,
   "id": "036d698f",
   "metadata": {},
   "outputs": [],
   "source": [
    "count_vect = CountVectorizer(stop_words='english', max_features=1000)\n",
    "X_train_counts = count_vect.fit_transform(twenty_train.data)\n",
    "X_test_counts = count_vect.transform(twenty_test.data)\n",
    "tfidf_transformer = TfidfTransformer().fit(X_train_counts)\n",
    "X_train_tfidf = tfidf_transformer.transform(X_train_counts)\n",
    "X_test_tfidf = tfidf_transformer.transform(X_test_counts)"
   ]
  },
  {
   "cell_type": "code",
   "execution_count": 41,
   "id": "78424aa4",
   "metadata": {},
   "outputs": [
    {
     "name": "stdout",
     "output_type": "stream",
     "text": [
      "                          precision    recall  f1-score   support\n",
      "\n",
      "             alt.atheism       0.62      0.63      0.62       319\n",
      "           comp.graphics       0.56      0.67      0.61       389\n",
      " comp.os.ms-windows.misc       0.70      0.63      0.66       394\n",
      "comp.sys.ibm.pc.hardware       0.55      0.57      0.56       392\n",
      "   comp.sys.mac.hardware       0.64      0.64      0.64       385\n",
      "          comp.windows.x       0.69      0.65      0.67       395\n",
      "            misc.forsale       0.77      0.82      0.79       390\n",
      "               rec.autos       0.68      0.70      0.69       396\n",
      "         rec.motorcycles       0.77      0.81      0.79       398\n",
      "      rec.sport.baseball       0.70      0.76      0.73       397\n",
      "        rec.sport.hockey       0.85      0.79      0.82       399\n",
      "               sci.crypt       0.91      0.78      0.84       396\n",
      "         sci.electronics       0.47      0.60      0.52       393\n",
      "                 sci.med       0.64      0.63      0.64       396\n",
      "               sci.space       0.83      0.78      0.80       394\n",
      "  soc.religion.christian       0.78      0.83      0.81       398\n",
      "      talk.politics.guns       0.65      0.74      0.69       364\n",
      "   talk.politics.mideast       0.95      0.66      0.78       376\n",
      "      talk.politics.misc       0.55      0.51      0.53       310\n",
      "      talk.religion.misc       0.55      0.41      0.47       251\n",
      "\n",
      "                accuracy                           0.69      7532\n",
      "               macro avg       0.69      0.68      0.68      7532\n",
      "            weighted avg       0.70      0.69      0.69      7532\n",
      "\n"
     ]
    }
   ],
   "source": [
    "svm_clf_tfidf = SVC().fit(X_train_tfidf, y_train)\n",
    "y_test_svm_tfidf = svm_clf_tfidf.predict(X_test_tfidf)\n",
    "print(classification_report(y_test, y_test_svm_tfidf, target_names=twenty_test.target_names))"
   ]
  },
  {
   "cell_type": "code",
   "execution_count": 42,
   "id": "a6a06f54",
   "metadata": {},
   "outputs": [],
   "source": [
    "count_vect = CountVectorizer(stop_words='english', max_features=2000)\n",
    "X_train_counts = count_vect.fit_transform(twenty_train.data)\n",
    "X_test_counts = count_vect.transform(twenty_test.data)\n",
    "tfidf_transformer = TfidfTransformer().fit(X_train_counts)\n",
    "X_train_tfidf = tfidf_transformer.transform(X_train_counts)\n",
    "X_test_tfidf = tfidf_transformer.transform(X_test_counts)"
   ]
  },
  {
   "cell_type": "code",
   "execution_count": 43,
   "id": "78ade03e",
   "metadata": {},
   "outputs": [
    {
     "name": "stdout",
     "output_type": "stream",
     "text": [
      "                          precision    recall  f1-score   support\n",
      "\n",
      "             alt.atheism       0.69      0.64      0.66       319\n",
      "           comp.graphics       0.55      0.71      0.62       389\n",
      " comp.os.ms-windows.misc       0.73      0.69      0.71       394\n",
      "comp.sys.ibm.pc.hardware       0.59      0.64      0.62       392\n",
      "   comp.sys.mac.hardware       0.70      0.66      0.68       385\n",
      "          comp.windows.x       0.79      0.67      0.73       395\n",
      "            misc.forsale       0.76      0.84      0.80       390\n",
      "               rec.autos       0.75      0.78      0.76       396\n",
      "         rec.motorcycles       0.87      0.86      0.87       398\n",
      "      rec.sport.baseball       0.78      0.85      0.81       397\n",
      "        rec.sport.hockey       0.91      0.85      0.88       399\n",
      "               sci.crypt       0.96      0.83      0.89       396\n",
      "         sci.electronics       0.55      0.67      0.60       393\n",
      "                 sci.med       0.73      0.70      0.71       396\n",
      "               sci.space       0.86      0.83      0.84       394\n",
      "  soc.religion.christian       0.80      0.89      0.84       398\n",
      "      talk.politics.guns       0.68      0.81      0.74       364\n",
      "   talk.politics.mideast       0.95      0.73      0.83       376\n",
      "      talk.politics.misc       0.67      0.54      0.60       310\n",
      "      talk.religion.misc       0.66      0.51      0.57       251\n",
      "\n",
      "                accuracy                           0.74      7532\n",
      "               macro avg       0.75      0.74      0.74      7532\n",
      "            weighted avg       0.75      0.74      0.74      7532\n",
      "\n"
     ]
    }
   ],
   "source": [
    "svm_clf_tfidf = SVC().fit(X_train_tfidf, y_train)\n",
    "y_test_svm_tfidf = svm_clf_tfidf.predict(X_test_tfidf)\n",
    "print(classification_report(y_test, y_test_svm_tfidf, target_names=twenty_test.target_names))"
   ]
  },
  {
   "cell_type": "code",
   "execution_count": 44,
   "id": "ec92e8bb",
   "metadata": {},
   "outputs": [],
   "source": [
    "count_vect = CountVectorizer(stop_words='english', max_features=3000)\n",
    "X_train_counts = count_vect.fit_transform(twenty_train.data)\n",
    "X_test_counts = count_vect.transform(twenty_test.data)\n",
    "tfidf_transformer = TfidfTransformer().fit(X_train_counts)\n",
    "X_train_tfidf = tfidf_transformer.transform(X_train_counts)\n",
    "X_test_tfidf = tfidf_transformer.transform(X_test_counts)"
   ]
  },
  {
   "cell_type": "code",
   "execution_count": 45,
   "id": "cb628372",
   "metadata": {},
   "outputs": [
    {
     "name": "stdout",
     "output_type": "stream",
     "text": [
      "                          precision    recall  f1-score   support\n",
      "\n",
      "             alt.atheism       0.73      0.66      0.70       319\n",
      "           comp.graphics       0.59      0.73      0.65       389\n",
      " comp.os.ms-windows.misc       0.74      0.70      0.72       394\n",
      "comp.sys.ibm.pc.hardware       0.63      0.68      0.66       392\n",
      "   comp.sys.mac.hardware       0.76      0.72      0.74       385\n",
      "          comp.windows.x       0.80      0.70      0.74       395\n",
      "            misc.forsale       0.73      0.82      0.78       390\n",
      "               rec.autos       0.78      0.80      0.79       396\n",
      "         rec.motorcycles       0.90      0.88      0.89       398\n",
      "      rec.sport.baseball       0.82      0.88      0.85       397\n",
      "        rec.sport.hockey       0.93      0.89      0.91       399\n",
      "               sci.crypt       0.95      0.83      0.89       396\n",
      "         sci.electronics       0.56      0.72      0.63       393\n",
      "                 sci.med       0.79      0.73      0.76       396\n",
      "               sci.space       0.88      0.86      0.87       394\n",
      "  soc.religion.christian       0.81      0.90      0.85       398\n",
      "      talk.politics.guns       0.71      0.82      0.76       364\n",
      "   talk.politics.mideast       0.96      0.75      0.84       376\n",
      "      talk.politics.misc       0.69      0.56      0.62       310\n",
      "      talk.religion.misc       0.67      0.53      0.59       251\n",
      "\n",
      "                accuracy                           0.77      7532\n",
      "               macro avg       0.77      0.76      0.76      7532\n",
      "            weighted avg       0.77      0.77      0.77      7532\n",
      "\n"
     ]
    }
   ],
   "source": [
    "svm_clf_tfidf = SVC().fit(X_train_tfidf, y_train)\n",
    "y_test_svm_tfidf = svm_clf_tfidf.predict(X_test_tfidf)\n",
    "print(classification_report(y_test, y_test_svm_tfidf, target_names=twenty_test.target_names))"
   ]
  },
  {
   "cell_type": "code",
   "execution_count": 46,
   "id": "d1c7f70f",
   "metadata": {},
   "outputs": [],
   "source": [
    "count_vect = CountVectorizer(stop_words='english', max_features=4000)\n",
    "X_train_counts = count_vect.fit_transform(twenty_train.data)\n",
    "X_test_counts = count_vect.transform(twenty_test.data)\n",
    "tfidf_transformer = TfidfTransformer().fit(X_train_counts)\n",
    "X_train_tfidf = tfidf_transformer.transform(X_train_counts)\n",
    "X_test_tfidf = tfidf_transformer.transform(X_test_counts)"
   ]
  },
  {
   "cell_type": "code",
   "execution_count": 47,
   "id": "313186b4",
   "metadata": {},
   "outputs": [
    {
     "name": "stdout",
     "output_type": "stream",
     "text": [
      "                          precision    recall  f1-score   support\n",
      "\n",
      "             alt.atheism       0.74      0.68      0.71       319\n",
      "           comp.graphics       0.59      0.74      0.66       389\n",
      " comp.os.ms-windows.misc       0.75      0.71      0.73       394\n",
      "comp.sys.ibm.pc.hardware       0.63      0.69      0.66       392\n",
      "   comp.sys.mac.hardware       0.76      0.74      0.75       385\n",
      "          comp.windows.x       0.81      0.70      0.75       395\n",
      "            misc.forsale       0.76      0.84      0.80       390\n",
      "               rec.autos       0.81      0.83      0.82       396\n",
      "         rec.motorcycles       0.91      0.88      0.90       398\n",
      "      rec.sport.baseball       0.83      0.89      0.86       397\n",
      "        rec.sport.hockey       0.94      0.91      0.93       399\n",
      "               sci.crypt       0.97      0.85      0.90       396\n",
      "         sci.electronics       0.58      0.73      0.65       393\n",
      "                 sci.med       0.81      0.74      0.78       396\n",
      "               sci.space       0.88      0.86      0.87       394\n",
      "  soc.religion.christian       0.81      0.92      0.86       398\n",
      "      talk.politics.guns       0.71      0.83      0.76       364\n",
      "   talk.politics.mideast       0.97      0.76      0.85       376\n",
      "      talk.politics.misc       0.70      0.55      0.62       310\n",
      "      talk.religion.misc       0.68      0.52      0.59       251\n",
      "\n",
      "                accuracy                           0.78      7532\n",
      "               macro avg       0.78      0.77      0.77      7532\n",
      "            weighted avg       0.79      0.78      0.78      7532\n",
      "\n"
     ]
    }
   ],
   "source": [
    "svm_clf_tfidf = SVC().fit(X_train_tfidf, y_train)\n",
    "y_test_svm_tfidf = svm_clf_tfidf.predict(X_test_tfidf)\n",
    "print(classification_report(y_test, y_test_svm_tfidf, target_names=twenty_test.target_names))"
   ]
  },
  {
   "cell_type": "code",
   "execution_count": null,
   "id": "c5789d99",
   "metadata": {},
   "outputs": [],
   "source": []
  }
 ],
 "metadata": {
  "kernelspec": {
   "display_name": "text_min",
   "language": "python",
   "name": "text_min"
  },
  "language_info": {
   "codemirror_mode": {
    "name": "ipython",
    "version": 3
   },
   "file_extension": ".py",
   "mimetype": "text/x-python",
   "name": "python",
   "nbconvert_exporter": "python",
   "pygments_lexer": "ipython3",
   "version": "3.10.13"
  }
 },
 "nbformat": 4,
 "nbformat_minor": 5
}
