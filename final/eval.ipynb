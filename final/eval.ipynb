{
 "cells": [
  {
   "cell_type": "code",
   "execution_count": 1,
   "id": "e2b800c0",
   "metadata": {},
   "outputs": [],
   "source": [
    "from transformers import AutoTokenizer, AutoModelForSequenceClassification"
   ]
  },
  {
   "cell_type": "code",
   "execution_count": 5,
   "id": "091f4b33",
   "metadata": {},
   "outputs": [],
   "source": [
    "BASE_MODEL = \"cardiffnlp/twitter-roberta-base-sentiment-latest\"\n",
    "MODEL_PATH = \"models/cardiffnlp/twitter-roberta-base-sentiment-latest-ml256-lr2e-05-e10/checkpoint-1004/\"\n",
    "MAX_LENGTH = 256"
   ]
  },
  {
   "cell_type": "code",
   "execution_count": 3,
   "id": "39f9060c",
   "metadata": {},
   "outputs": [
    {
     "data": {
      "application/vnd.jupyter.widget-view+json": {
       "model_id": "e50f485966e94aee82fb1281593b91b6",
       "version_major": 2,
       "version_minor": 0
      },
      "text/plain": [
       "Downloading config.json:   0%|          | 0.00/929 [00:00<?, ?B/s]"
      ]
     },
     "metadata": {},
     "output_type": "display_data"
    },
    {
     "data": {
      "application/vnd.jupyter.widget-view+json": {
       "model_id": "b6d2efadac73439aa31b0be7fbc19f1e",
       "version_major": 2,
       "version_minor": 0
      },
      "text/plain": [
       "Downloading vocab.json:   0%|          | 0.00/899k [00:00<?, ?B/s]"
      ]
     },
     "metadata": {},
     "output_type": "display_data"
    },
    {
     "data": {
      "application/vnd.jupyter.widget-view+json": {
       "model_id": "945f0b5b19e6489388762d77be5a170e",
       "version_major": 2,
       "version_minor": 0
      },
      "text/plain": [
       "Downloading merges.txt:   0%|          | 0.00/456k [00:00<?, ?B/s]"
      ]
     },
     "metadata": {},
     "output_type": "display_data"
    },
    {
     "data": {
      "application/vnd.jupyter.widget-view+json": {
       "model_id": "89d61962efd6492499e3284973e2d71d",
       "version_major": 2,
       "version_minor": 0
      },
      "text/plain": [
       "Downloading (…)cial_tokens_map.json:   0%|          | 0.00/239 [00:00<?, ?B/s]"
      ]
     },
     "metadata": {},
     "output_type": "display_data"
    }
   ],
   "source": [
    "tokenizer = AutoTokenizer.from_pretrained(BASE_MODEL)\n",
    "model = AutoModelForSequenceClassification.from_pretrained(MODEL_PATH)"
   ]
  },
  {
   "cell_type": "code",
   "execution_count": 4,
   "id": "11909975",
   "metadata": {},
   "outputs": [],
   "source": [
    "input_texts = [\n",
    "    'Donald Trump is the worst president!',\n",
    "    'Donal Trump is not the best president ever.', \n",
    "    'Donal Trump is a tolerable president.',\n",
    "    'Donald Trump is a decent president.',\n",
    "    'Donald Trump is the best president ever!'\n",
    "]"
   ]
  },
  {
   "cell_type": "code",
   "execution_count": 7,
   "id": "f13e4a77",
   "metadata": {},
   "outputs": [],
   "source": [
    "encoded = tokenizer(input_texts, truncation=True, padding=\"max_length\", max_length=MAX_LENGTH,\n",
    "                    return_tensors=\"pt\")\n",
    "y_preds = model(**encoded).logits.reshape(-1).tolist()"
   ]
  },
  {
   "cell_type": "code",
   "execution_count": 8,
   "id": "d132087f",
   "metadata": {},
   "outputs": [
    {
     "data": {
      "text/plain": [
       "[0.055664874613285065,\n",
       " 0.08878418803215027,\n",
       " 1.8195912837982178,\n",
       " 1.826826572418213,\n",
       " 1.9883360862731934]"
      ]
     },
     "execution_count": 8,
     "metadata": {},
     "output_type": "execute_result"
    }
   ],
   "source": [
    "y_preds"
   ]
  },
  {
   "cell_type": "code",
   "execution_count": 10,
   "id": "8f615ddd",
   "metadata": {},
   "outputs": [
    {
     "data": {
      "text/plain": [
       "[-0.9443351253867149,\n",
       " -0.9112158119678497,\n",
       " 0.8195912837982178,\n",
       " 0.8268265724182129,\n",
       " 0.9883360862731934]"
      ]
     },
     "execution_count": 10,
     "metadata": {},
     "output_type": "execute_result"
    }
   ],
   "source": [
    "[y - 1 for y in y_preds]"
   ]
  },
  {
   "cell_type": "code",
   "execution_count": 13,
   "id": "56f82f3a",
   "metadata": {},
   "outputs": [
    {
     "data": {
      "text/plain": [
       "[0, 0, 2, 2, 2]"
      ]
     },
     "execution_count": 13,
     "metadata": {},
     "output_type": "execute_result"
    }
   ],
   "source": [
    "[round(y) for y in y_preds]"
   ]
  },
  {
   "cell_type": "code",
   "execution_count": null,
   "id": "48574e5e",
   "metadata": {},
   "outputs": [],
   "source": []
  }
 ],
 "metadata": {
  "kernelspec": {
   "display_name": "text_min",
   "language": "python",
   "name": "text_min"
  },
  "language_info": {
   "codemirror_mode": {
    "name": "ipython",
    "version": 3
   },
   "file_extension": ".py",
   "mimetype": "text/x-python",
   "name": "python",
   "nbconvert_exporter": "python",
   "pygments_lexer": "ipython3",
   "version": "3.10.13"
  }
 },
 "nbformat": 4,
 "nbformat_minor": 5
}
