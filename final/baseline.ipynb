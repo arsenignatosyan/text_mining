{
 "cells": [
  {
   "cell_type": "code",
   "execution_count": 1,
   "metadata": {
    "pycharm": {
     "name": "#%%\n"
    }
   },
   "outputs": [],
   "source": [
    "import pandas as pd\n",
    "import os\n",
    "from sklearn.model_selection import train_test_split\n",
    "from sklearn.feature_extraction.text import CountVectorizer, TfidfTransformer\n",
    "from sklearn.svm import SVR\n",
    "\n",
    "from datasets import Dataset\n",
    "from sklearn.metrics import mean_squared_error, r2_score, mean_absolute_error\n",
    "from transformers import AutoTokenizer, AutoModelForSequenceClassification, DataCollatorWithPadding\n",
    "from torch.utils.data import DataLoader\n",
    "import torch\n",
    "import tqdm\n",
    "from transformers import TrainingArguments, Trainer"
   ]
  },
  {
   "cell_type": "code",
   "execution_count": 2,
   "metadata": {
    "pycharm": {
     "name": "#%%\n"
    }
   },
   "outputs": [],
   "source": [
    "def compute_metrics_for_regression_sklearn(y_pred, y_true):\n",
    "    mse = mean_squared_error(y_true, y_pred)\n",
    "    mae = mean_absolute_error(y_true, y_pred)\n",
    "    r2 = r2_score(y_true, y_pred)\n",
    "    single_squared_errors = ((y_pred - y_true)**2).tolist()\n",
    "\n",
    "    # Compute accuracy\n",
    "    # Based on the fact that the rounded score = true score only if |single_squared_errors| < 0.5\n",
    "    accuracy = sum([1 for e in single_squared_errors if e < 0.25]) / len(single_squared_errors)\n",
    "\n",
    "    return {\"mse\": mse, \"mae\": mae, \"r2\": r2, \"accuracy\": accuracy}\n",
    "\n",
    "\n",
    "def compute_metrics_for_regression(eval_pred):\n",
    "    logits, labels = eval_pred\n",
    "    labels = labels.reshape(-1, 1)\n",
    "\n",
    "    mse = mean_squared_error(labels, logits)\n",
    "    mae = mean_absolute_error(labels, logits)\n",
    "    r2 = r2_score(labels, logits)\n",
    "    single_squared_errors = ((logits - labels).flatten()**2).tolist()\n",
    "\n",
    "    # Compute accuracy\n",
    "    # Based on the fact that the rounded score = true score only if |single_squared_errors| < 0.5\n",
    "    accuracy = sum([1 for e in single_squared_errors if e < 0.25]) / len(single_squared_errors)\n",
    "\n",
    "    return {\"mse\": mse, \"mae\": mae, \"r2\": r2, \"accuracy\": accuracy}"
   ]
  },
  {
   "cell_type": "markdown",
   "metadata": {
    "pycharm": {
     "name": "#%% md\n"
    }
   },
   "source": [
    "## Load Data and Manipulate it"
   ]
  },
  {
   "cell_type": "code",
   "execution_count": 3,
   "metadata": {
    "pycharm": {
     "name": "#%%\n"
    }
   },
   "outputs": [
    {
     "name": "stdout",
     "output_type": "stream",
     "text": [
      "twitter-2016dev-A.tsv\n",
      "sentiment\n",
      "positive    829\n",
      "neutral     746\n",
      "negative    391\n",
      "Name: count, dtype: int64\n",
      "================\n",
      "twitter-2016test-A.tsv\n",
      "sentiment\n",
      "neutral     10342\n",
      "positive     7059\n",
      "negative     3231\n",
      "Name: count, dtype: int64\n",
      "================\n",
      "twitter-2013train-A.tsv\n",
      "sentiment\n",
      "neutral     4586\n",
      "positive    3640\n",
      "negative    1458\n",
      "Name: count, dtype: int64\n",
      "================\n",
      "twitter-2016train-A.tsv\n",
      "sentiment\n",
      "positive    3017\n",
      "neutral     2001\n",
      "negative     850\n",
      "Name: count, dtype: int64\n",
      "================\n",
      "twitter-2015test-A.tsv\n",
      "sentiment\n",
      "positive    1038\n",
      "neutral      987\n",
      "negative     365\n",
      "Name: count, dtype: int64\n",
      "================\n",
      "twitter-2015train-A.tsv\n",
      "sentiment\n",
      "neutral     253\n",
      "positive    170\n",
      "negative     66\n",
      "Name: count, dtype: int64\n",
      "================\n",
      "twitter-2013dev-A.tsv\n",
      "sentiment\n",
      "neutral     739\n",
      "positive    575\n",
      "negative    340\n",
      "Name: count, dtype: int64\n",
      "================\n",
      "twitter-2016devtest-A.tsv\n",
      "sentiment\n",
      "positive    994\n",
      "neutral     681\n",
      "negative    325\n",
      "Name: count, dtype: int64\n",
      "================\n",
      "twitter-2013test-A.tsv\n",
      "sentiment\n",
      "neutral     1513\n",
      "positive    1475\n",
      "negative     559\n",
      "Name: count, dtype: int64\n",
      "================\n",
      "twitter-2014sarcasm-A.tsv\n",
      "sentiment\n",
      "negative    22\n",
      "positive    20\n",
      "neutral      7\n",
      "Name: count, dtype: int64\n",
      "================\n",
      "twitter-2014test-A.tsv\n",
      "sentiment\n",
      "positive    982\n",
      "neutral     669\n",
      "negative    202\n",
      "Name: count, dtype: int64\n",
      "================\n"
     ]
    }
   ],
   "source": [
    "lens = 0\n",
    "\n",
    "base_path = \"semeval-2017-tweets_Subtask-A/downloaded/\"\n",
    "base_df = pd.DataFrame()\n",
    "colnames=['id', 'sentiment', 'tweet']\n",
    "for df_path in os.listdir(base_path):\n",
    "    path = os.path.join(base_path, df_path)\n",
    "    print(df_path)\n",
    "    df = pd.read_csv(path, sep=\"\\t\", header=None)\n",
    "    if df.shape[1] > 3:\n",
    "        df = df.iloc[:, 0:3]\n",
    "    df.columns = colnames\n",
    "    print(df[\"sentiment\"].value_counts())\n",
    "    print(\"================\")\n",
    "    base_df = pd.concat([base_df, df], ignore_index=True)\n",
    "    lens += len(df)"
   ]
  },
  {
   "cell_type": "code",
   "execution_count": 4,
   "metadata": {
    "pycharm": {
     "name": "#%%\n"
    }
   },
   "outputs": [
    {
     "data": {
      "text/html": [
       "<div>\n",
       "<style scoped>\n",
       "    .dataframe tbody tr th:only-of-type {\n",
       "        vertical-align: middle;\n",
       "    }\n",
       "\n",
       "    .dataframe tbody tr th {\n",
       "        vertical-align: top;\n",
       "    }\n",
       "\n",
       "    .dataframe thead th {\n",
       "        text-align: right;\n",
       "    }\n",
       "</style>\n",
       "<table border=\"1\" class=\"dataframe\">\n",
       "  <thead>\n",
       "    <tr style=\"text-align: right;\">\n",
       "      <th></th>\n",
       "      <th>id</th>\n",
       "      <th>sentiment</th>\n",
       "      <th>tweet</th>\n",
       "    </tr>\n",
       "  </thead>\n",
       "  <tbody>\n",
       "    <tr>\n",
       "      <th>0</th>\n",
       "      <td>638060586258038784</td>\n",
       "      <td>neutral</td>\n",
       "      <td>05 Beat it - Michael Jackson - Thriller (25th ...</td>\n",
       "    </tr>\n",
       "    <tr>\n",
       "      <th>1</th>\n",
       "      <td>638061181823922176</td>\n",
       "      <td>positive</td>\n",
       "      <td>Jay Z joins Instagram with nostalgic tribute t...</td>\n",
       "    </tr>\n",
       "    <tr>\n",
       "      <th>2</th>\n",
       "      <td>638083821364244480</td>\n",
       "      <td>neutral</td>\n",
       "      <td>Michael Jackson: Bad 25th Anniversary Edition ...</td>\n",
       "    </tr>\n",
       "    <tr>\n",
       "      <th>3</th>\n",
       "      <td>638091450132078593</td>\n",
       "      <td>positive</td>\n",
       "      <td>I liked a @YouTube video http://t.co/AaR3pjp2P...</td>\n",
       "    </tr>\n",
       "    <tr>\n",
       "      <th>4</th>\n",
       "      <td>638125563790557184</td>\n",
       "      <td>positive</td>\n",
       "      <td>18th anniv of Princess Diana's death. I still ...</td>\n",
       "    </tr>\n",
       "    <tr>\n",
       "      <th>...</th>\n",
       "      <td>...</td>\n",
       "      <td>...</td>\n",
       "      <td>...</td>\n",
       "    </tr>\n",
       "    <tr>\n",
       "      <th>50127</th>\n",
       "      <td>210378118865756160</td>\n",
       "      <td>neutral</td>\n",
       "      <td>It's a Wednesday girls night out as '90's band...</td>\n",
       "    </tr>\n",
       "    <tr>\n",
       "      <th>50128</th>\n",
       "      <td>245177521304399872</td>\n",
       "      <td>positive</td>\n",
       "      <td>night college course sorted, just have to enro...</td>\n",
       "    </tr>\n",
       "    <tr>\n",
       "      <th>50129</th>\n",
       "      <td>259280987089932288</td>\n",
       "      <td>positive</td>\n",
       "      <td>For the 1st time in 30 years. For your splendi...</td>\n",
       "    </tr>\n",
       "    <tr>\n",
       "      <th>50130</th>\n",
       "      <td>201113950211940352</td>\n",
       "      <td>positive</td>\n",
       "      <td>NURSES DAY - 12 MAY 2012. Nursing: The heart b...</td>\n",
       "    </tr>\n",
       "    <tr>\n",
       "      <th>50131</th>\n",
       "      <td>237999067286876160</td>\n",
       "      <td>neutral</td>\n",
       "      <td>We have 15 minutes left until the 2nd episode ...</td>\n",
       "    </tr>\n",
       "  </tbody>\n",
       "</table>\n",
       "<p>50132 rows × 3 columns</p>\n",
       "</div>"
      ],
      "text/plain": [
       "                       id sentiment  \\\n",
       "0      638060586258038784   neutral   \n",
       "1      638061181823922176  positive   \n",
       "2      638083821364244480   neutral   \n",
       "3      638091450132078593  positive   \n",
       "4      638125563790557184  positive   \n",
       "...                   ...       ...   \n",
       "50127  210378118865756160   neutral   \n",
       "50128  245177521304399872  positive   \n",
       "50129  259280987089932288  positive   \n",
       "50130  201113950211940352  positive   \n",
       "50131  237999067286876160   neutral   \n",
       "\n",
       "                                                   tweet  \n",
       "0      05 Beat it - Michael Jackson - Thriller (25th ...  \n",
       "1      Jay Z joins Instagram with nostalgic tribute t...  \n",
       "2      Michael Jackson: Bad 25th Anniversary Edition ...  \n",
       "3      I liked a @YouTube video http://t.co/AaR3pjp2P...  \n",
       "4      18th anniv of Princess Diana's death. I still ...  \n",
       "...                                                  ...  \n",
       "50127  It's a Wednesday girls night out as '90's band...  \n",
       "50128  night college course sorted, just have to enro...  \n",
       "50129  For the 1st time in 30 years. For your splendi...  \n",
       "50130  NURSES DAY - 12 MAY 2012. Nursing: The heart b...  \n",
       "50131  We have 15 minutes left until the 2nd episode ...  \n",
       "\n",
       "[50132 rows x 3 columns]"
      ]
     },
     "execution_count": 4,
     "metadata": {},
     "output_type": "execute_result"
    }
   ],
   "source": [
    "base_df"
   ]
  },
  {
   "cell_type": "code",
   "execution_count": 5,
   "metadata": {
    "pycharm": {
     "name": "#%%\n"
    }
   },
   "outputs": [],
   "source": [
    "base_df.drop_duplicates(inplace=True)"
   ]
  },
  {
   "cell_type": "code",
   "execution_count": 6,
   "metadata": {
    "pycharm": {
     "name": "#%%\n"
    }
   },
   "outputs": [
    {
     "data": {
      "text/html": [
       "<div>\n",
       "<style scoped>\n",
       "    .dataframe tbody tr th:only-of-type {\n",
       "        vertical-align: middle;\n",
       "    }\n",
       "\n",
       "    .dataframe tbody tr th {\n",
       "        vertical-align: top;\n",
       "    }\n",
       "\n",
       "    .dataframe thead th {\n",
       "        text-align: right;\n",
       "    }\n",
       "</style>\n",
       "<table border=\"1\" class=\"dataframe\">\n",
       "  <thead>\n",
       "    <tr style=\"text-align: right;\">\n",
       "      <th></th>\n",
       "      <th>id</th>\n",
       "      <th>sentiment</th>\n",
       "      <th>tweet</th>\n",
       "    </tr>\n",
       "  </thead>\n",
       "  <tbody>\n",
       "    <tr>\n",
       "      <th>0</th>\n",
       "      <td>638060586258038784</td>\n",
       "      <td>neutral</td>\n",
       "      <td>05 Beat it - Michael Jackson - Thriller (25th ...</td>\n",
       "    </tr>\n",
       "    <tr>\n",
       "      <th>1</th>\n",
       "      <td>638061181823922176</td>\n",
       "      <td>positive</td>\n",
       "      <td>Jay Z joins Instagram with nostalgic tribute t...</td>\n",
       "    </tr>\n",
       "    <tr>\n",
       "      <th>2</th>\n",
       "      <td>638083821364244480</td>\n",
       "      <td>neutral</td>\n",
       "      <td>Michael Jackson: Bad 25th Anniversary Edition ...</td>\n",
       "    </tr>\n",
       "    <tr>\n",
       "      <th>3</th>\n",
       "      <td>638091450132078593</td>\n",
       "      <td>positive</td>\n",
       "      <td>I liked a @YouTube video http://t.co/AaR3pjp2P...</td>\n",
       "    </tr>\n",
       "    <tr>\n",
       "      <th>4</th>\n",
       "      <td>638125563790557184</td>\n",
       "      <td>positive</td>\n",
       "      <td>18th anniv of Princess Diana's death. I still ...</td>\n",
       "    </tr>\n",
       "    <tr>\n",
       "      <th>...</th>\n",
       "      <td>...</td>\n",
       "      <td>...</td>\n",
       "      <td>...</td>\n",
       "    </tr>\n",
       "    <tr>\n",
       "      <th>50127</th>\n",
       "      <td>210378118865756160</td>\n",
       "      <td>neutral</td>\n",
       "      <td>It's a Wednesday girls night out as '90's band...</td>\n",
       "    </tr>\n",
       "    <tr>\n",
       "      <th>50128</th>\n",
       "      <td>245177521304399872</td>\n",
       "      <td>positive</td>\n",
       "      <td>night college course sorted, just have to enro...</td>\n",
       "    </tr>\n",
       "    <tr>\n",
       "      <th>50129</th>\n",
       "      <td>259280987089932288</td>\n",
       "      <td>positive</td>\n",
       "      <td>For the 1st time in 30 years. For your splendi...</td>\n",
       "    </tr>\n",
       "    <tr>\n",
       "      <th>50130</th>\n",
       "      <td>201113950211940352</td>\n",
       "      <td>positive</td>\n",
       "      <td>NURSES DAY - 12 MAY 2012. Nursing: The heart b...</td>\n",
       "    </tr>\n",
       "    <tr>\n",
       "      <th>50131</th>\n",
       "      <td>237999067286876160</td>\n",
       "      <td>neutral</td>\n",
       "      <td>We have 15 minutes left until the 2nd episode ...</td>\n",
       "    </tr>\n",
       "  </tbody>\n",
       "</table>\n",
       "<p>49467 rows × 3 columns</p>\n",
       "</div>"
      ],
      "text/plain": [
       "                       id sentiment  \\\n",
       "0      638060586258038784   neutral   \n",
       "1      638061181823922176  positive   \n",
       "2      638083821364244480   neutral   \n",
       "3      638091450132078593  positive   \n",
       "4      638125563790557184  positive   \n",
       "...                   ...       ...   \n",
       "50127  210378118865756160   neutral   \n",
       "50128  245177521304399872  positive   \n",
       "50129  259280987089932288  positive   \n",
       "50130  201113950211940352  positive   \n",
       "50131  237999067286876160   neutral   \n",
       "\n",
       "                                                   tweet  \n",
       "0      05 Beat it - Michael Jackson - Thriller (25th ...  \n",
       "1      Jay Z joins Instagram with nostalgic tribute t...  \n",
       "2      Michael Jackson: Bad 25th Anniversary Edition ...  \n",
       "3      I liked a @YouTube video http://t.co/AaR3pjp2P...  \n",
       "4      18th anniv of Princess Diana's death. I still ...  \n",
       "...                                                  ...  \n",
       "50127  It's a Wednesday girls night out as '90's band...  \n",
       "50128  night college course sorted, just have to enro...  \n",
       "50129  For the 1st time in 30 years. For your splendi...  \n",
       "50130  NURSES DAY - 12 MAY 2012. Nursing: The heart b...  \n",
       "50131  We have 15 minutes left until the 2nd episode ...  \n",
       "\n",
       "[49467 rows x 3 columns]"
      ]
     },
     "execution_count": 6,
     "metadata": {},
     "output_type": "execute_result"
    }
   ],
   "source": [
    "base_df"
   ]
  },
  {
   "cell_type": "code",
   "execution_count": 7,
   "metadata": {
    "pycharm": {
     "name": "#%%\n"
    }
   },
   "outputs": [],
   "source": [
    "X = base_df[\"tweet\"]\n",
    "y = base_df[\"sentiment\"]"
   ]
  },
  {
   "cell_type": "code",
   "execution_count": 8,
   "metadata": {
    "pycharm": {
     "name": "#%%\n"
    }
   },
   "outputs": [
    {
     "data": {
      "text/plain": [
       "sentiment\n",
       "neutral     22182\n",
       "positive    19572\n",
       "negative     7713\n",
       "Name: count, dtype: int64"
      ]
     },
     "execution_count": 8,
     "metadata": {},
     "output_type": "execute_result"
    }
   ],
   "source": [
    "y.value_counts()"
   ]
  },
  {
   "cell_type": "code",
   "execution_count": 9,
   "metadata": {
    "pycharm": {
     "name": "#%%\n"
    }
   },
   "outputs": [],
   "source": [
    "X_train_val, X_test, y_train_val, y_test = train_test_split(X, y, test_size=0.2, stratify=y, random_state=42, shuffle=True)\n",
    "X_train, X_val, y_train, y_val = train_test_split(X_train_val, y_train_val, test_size=0.2, stratify=y_train_val, random_state=42, shuffle=True)"
   ]
  },
  {
   "cell_type": "code",
   "execution_count": 10,
   "metadata": {
    "pycharm": {
     "name": "#%%\n"
    }
   },
   "outputs": [
    {
     "data": {
      "text/plain": [
       "(31658, 7915, 9894)"
      ]
     },
     "execution_count": 10,
     "metadata": {},
     "output_type": "execute_result"
    }
   ],
   "source": [
    "len(X_train), len(X_val), len(X_test)"
   ]
  },
  {
   "cell_type": "code",
   "execution_count": 11,
   "metadata": {
    "pycharm": {
     "name": "#%%\n"
    }
   },
   "outputs": [],
   "source": [
    "y_train = y_train.map({\"negative\": 0, \"neutral\": 1, \"positive\":2})\n",
    "y_val = y_val.map({\"negative\": 0, \"neutral\": 1, \"positive\":2})\n",
    "y_test = y_test.map({\"negative\": 0, \"neutral\": 1, \"positive\":2})"
   ]
  },
  {
   "cell_type": "markdown",
   "metadata": {
    "pycharm": {
     "name": "#%% md\n"
    }
   },
   "source": [
    "## Baseline Model"
   ]
  },
  {
   "cell_type": "code",
   "execution_count": 12,
   "metadata": {
    "pycharm": {
     "name": "#%%\n"
    }
   },
   "outputs": [],
   "source": [
    "count_vect = CountVectorizer(stop_words=\"english\", lowercase=True, ngram_range=(1, 3), analyzer=\"word\")\n",
    "X_train_counts = count_vect.fit_transform(X_train)\n",
    "X_val_counts = count_vect.transform(X_val)\n",
    "X_test_counts = count_vect.transform(X_test)"
   ]
  },
  {
   "cell_type": "code",
   "execution_count": 13,
   "metadata": {
    "pycharm": {
     "name": "#%%\n"
    }
   },
   "outputs": [],
   "source": [
    "tfidf_transformer = TfidfTransformer().fit(X_train_counts)\n",
    "X_train_tfidf = tfidf_transformer.transform(X_train_counts)\n",
    "X_val_tfidf = tfidf_transformer.transform(X_val_counts)\n",
    "X_test_tfidf = tfidf_transformer.transform(X_test_counts)"
   ]
  },
  {
   "cell_type": "code",
   "execution_count": 14,
   "metadata": {
    "pycharm": {
     "name": "#%%\n"
    }
   },
   "outputs": [
    {
     "data": {
      "text/html": [
       "<style>#sk-container-id-1 {color: black;}#sk-container-id-1 pre{padding: 0;}#sk-container-id-1 div.sk-toggleable {background-color: white;}#sk-container-id-1 label.sk-toggleable__label {cursor: pointer;display: block;width: 100%;margin-bottom: 0;padding: 0.3em;box-sizing: border-box;text-align: center;}#sk-container-id-1 label.sk-toggleable__label-arrow:before {content: \"▸\";float: left;margin-right: 0.25em;color: #696969;}#sk-container-id-1 label.sk-toggleable__label-arrow:hover:before {color: black;}#sk-container-id-1 div.sk-estimator:hover label.sk-toggleable__label-arrow:before {color: black;}#sk-container-id-1 div.sk-toggleable__content {max-height: 0;max-width: 0;overflow: hidden;text-align: left;background-color: #f0f8ff;}#sk-container-id-1 div.sk-toggleable__content pre {margin: 0.2em;color: black;border-radius: 0.25em;background-color: #f0f8ff;}#sk-container-id-1 input.sk-toggleable__control:checked~div.sk-toggleable__content {max-height: 200px;max-width: 100%;overflow: auto;}#sk-container-id-1 input.sk-toggleable__control:checked~label.sk-toggleable__label-arrow:before {content: \"▾\";}#sk-container-id-1 div.sk-estimator input.sk-toggleable__control:checked~label.sk-toggleable__label {background-color: #d4ebff;}#sk-container-id-1 div.sk-label input.sk-toggleable__control:checked~label.sk-toggleable__label {background-color: #d4ebff;}#sk-container-id-1 input.sk-hidden--visually {border: 0;clip: rect(1px 1px 1px 1px);clip: rect(1px, 1px, 1px, 1px);height: 1px;margin: -1px;overflow: hidden;padding: 0;position: absolute;width: 1px;}#sk-container-id-1 div.sk-estimator {font-family: monospace;background-color: #f0f8ff;border: 1px dotted black;border-radius: 0.25em;box-sizing: border-box;margin-bottom: 0.5em;}#sk-container-id-1 div.sk-estimator:hover {background-color: #d4ebff;}#sk-container-id-1 div.sk-parallel-item::after {content: \"\";width: 100%;border-bottom: 1px solid gray;flex-grow: 1;}#sk-container-id-1 div.sk-label:hover label.sk-toggleable__label {background-color: #d4ebff;}#sk-container-id-1 div.sk-serial::before {content: \"\";position: absolute;border-left: 1px solid gray;box-sizing: border-box;top: 0;bottom: 0;left: 50%;z-index: 0;}#sk-container-id-1 div.sk-serial {display: flex;flex-direction: column;align-items: center;background-color: white;padding-right: 0.2em;padding-left: 0.2em;position: relative;}#sk-container-id-1 div.sk-item {position: relative;z-index: 1;}#sk-container-id-1 div.sk-parallel {display: flex;align-items: stretch;justify-content: center;background-color: white;position: relative;}#sk-container-id-1 div.sk-item::before, #sk-container-id-1 div.sk-parallel-item::before {content: \"\";position: absolute;border-left: 1px solid gray;box-sizing: border-box;top: 0;bottom: 0;left: 50%;z-index: -1;}#sk-container-id-1 div.sk-parallel-item {display: flex;flex-direction: column;z-index: 1;position: relative;background-color: white;}#sk-container-id-1 div.sk-parallel-item:first-child::after {align-self: flex-end;width: 50%;}#sk-container-id-1 div.sk-parallel-item:last-child::after {align-self: flex-start;width: 50%;}#sk-container-id-1 div.sk-parallel-item:only-child::after {width: 0;}#sk-container-id-1 div.sk-dashed-wrapped {border: 1px dashed gray;margin: 0 0.4em 0.5em 0.4em;box-sizing: border-box;padding-bottom: 0.4em;background-color: white;}#sk-container-id-1 div.sk-label label {font-family: monospace;font-weight: bold;display: inline-block;line-height: 1.2em;}#sk-container-id-1 div.sk-label-container {text-align: center;}#sk-container-id-1 div.sk-container {/* jupyter's `normalize.less` sets `[hidden] { display: none; }` but bootstrap.min.css set `[hidden] { display: none !important; }` so we also need the `!important` here to be able to override the default hidden behavior on the sphinx rendered scikit-learn.org. See: https://github.com/scikit-learn/scikit-learn/issues/21755 */display: inline-block !important;position: relative;}#sk-container-id-1 div.sk-text-repr-fallback {display: none;}</style><div id=\"sk-container-id-1\" class=\"sk-top-container\"><div class=\"sk-text-repr-fallback\"><pre>SVR()</pre><b>In a Jupyter environment, please rerun this cell to show the HTML representation or trust the notebook. <br />On GitHub, the HTML representation is unable to render, please try loading this page with nbviewer.org.</b></div><div class=\"sk-container\" hidden><div class=\"sk-item\"><div class=\"sk-estimator sk-toggleable\"><input class=\"sk-toggleable__control sk-hidden--visually\" id=\"sk-estimator-id-1\" type=\"checkbox\" checked><label for=\"sk-estimator-id-1\" class=\"sk-toggleable__label sk-toggleable__label-arrow\">SVR</label><div class=\"sk-toggleable__content\"><pre>SVR()</pre></div></div></div></div></div>"
      ],
      "text/plain": [
       "SVR()"
      ]
     },
     "execution_count": 14,
     "metadata": {},
     "output_type": "execute_result"
    }
   ],
   "source": [
    "svr = SVR()\n",
    "svr.fit(X_train_tfidf, y_train)"
   ]
  },
  {
   "cell_type": "code",
   "execution_count": 15,
   "metadata": {
    "pycharm": {
     "name": "#%%\n"
    }
   },
   "outputs": [
    {
     "data": {
      "text/plain": [
       "0.29214176623090515"
      ]
     },
     "execution_count": 15,
     "metadata": {},
     "output_type": "execute_result"
    }
   ],
   "source": [
    "y_val_pred_svr = svr.predict(X_val_tfidf)\n",
    "r2_score(y_val, y_val_pred_svr)"
   ]
  },
  {
   "cell_type": "code",
   "execution_count": 16,
   "metadata": {
    "pycharm": {
     "name": "#%%\n"
    }
   },
   "outputs": [
    {
     "data": {
      "text/plain": [
       "{'mse': 0.34975831391079454,\n",
       " 'mae': 0.4757609094362657,\n",
       " 'r2': 0.29214176623090515,\n",
       " 'accuracy': 0.6068224889450411}"
      ]
     },
     "execution_count": 16,
     "metadata": {},
     "output_type": "execute_result"
    }
   ],
   "source": [
    "compute_metrics_for_regression_sklearn(y_val_pred_svr, y_val)"
   ]
  },
  {
   "cell_type": "code",
   "execution_count": 17,
   "metadata": {},
   "outputs": [
    {
     "data": {
      "text/plain": [
       "0.27822487999671797"
      ]
     },
     "execution_count": 17,
     "metadata": {},
     "output_type": "execute_result"
    }
   ],
   "source": [
    "y_test_pred_svr = svr.predict(X_test_tfidf)\n",
    "r2_score(y_test, y_test_pred_svr)"
   ]
  },
  {
   "cell_type": "code",
   "execution_count": 18,
   "metadata": {},
   "outputs": [
    {
     "data": {
      "text/plain": [
       "{'mse': 0.35664278104756786,\n",
       " 'mae': 0.4814279799145648,\n",
       " 'r2': 0.27822487999671797,\n",
       " 'accuracy': 0.6059227814837275}"
      ]
     },
     "execution_count": 18,
     "metadata": {},
     "output_type": "execute_result"
    }
   ],
   "source": [
    "compute_metrics_for_regression_sklearn(y_test_pred_svr, y_test)"
   ]
  }
 ],
 "metadata": {
  "kernelspec": {
   "display_name": "text_min",
   "language": "python",
   "name": "text_min"
  },
  "language_info": {
   "codemirror_mode": {
    "name": "ipython",
    "version": 3
   },
   "file_extension": ".py",
   "mimetype": "text/x-python",
   "name": "python",
   "nbconvert_exporter": "python",
   "pygments_lexer": "ipython3",
   "version": "3.10.13"
  }
 },
 "nbformat": 4,
 "nbformat_minor": 1
}